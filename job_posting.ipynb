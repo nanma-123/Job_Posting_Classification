{
 "cells": [
  {
   "cell_type": "code",
   "execution_count": 1,
   "id": "1bac1263",
   "metadata": {},
   "outputs": [
    {
     "name": "stdout",
     "output_type": "stream",
     "text": [
      "Scraping page: 1 -> https://www.karkidi.com/Find-Jobs/1/all/India\n",
      "Scraping page: 2 -> https://www.karkidi.com/Find-Jobs/2/all/India\n",
      "Scraping page: 3 -> https://www.karkidi.com/Find-Jobs/3/all/India\n",
      "Scraping page: 4 -> https://www.karkidi.com/Find-Jobs/4/all/India\n",
      "Scraping page: 5 -> https://www.karkidi.com/Find-Jobs/5/all/India\n",
      "Scraping page: 6 -> https://www.karkidi.com/Find-Jobs/6/all/India\n",
      "Scraping page: 7 -> https://www.karkidi.com/Find-Jobs/7/all/India\n",
      "Scraping page: 8 -> https://www.karkidi.com/Find-Jobs/8/all/India\n",
      "Scraping page: 9 -> https://www.karkidi.com/Find-Jobs/9/all/India\n",
      "Scraping page: 10 -> https://www.karkidi.com/Find-Jobs/10/all/India\n",
      "Scraping page: 11 -> https://www.karkidi.com/Find-Jobs/11/all/India\n",
      "Scraping page: 12 -> https://www.karkidi.com/Find-Jobs/12/all/India\n",
      "Scraping page: 13 -> https://www.karkidi.com/Find-Jobs/13/all/India\n",
      "Scraping page: 14 -> https://www.karkidi.com/Find-Jobs/14/all/India\n",
      "Scraping page: 15 -> https://www.karkidi.com/Find-Jobs/15/all/India\n",
      "Scraping page: 16 -> https://www.karkidi.com/Find-Jobs/16/all/India\n",
      "Scraping page: 17 -> https://www.karkidi.com/Find-Jobs/17/all/India\n",
      "Scraping page: 18 -> https://www.karkidi.com/Find-Jobs/18/all/India\n",
      "Scraping page: 19 -> https://www.karkidi.com/Find-Jobs/19/all/India\n",
      "Scraping page: 20 -> https://www.karkidi.com/Find-Jobs/20/all/India\n",
      "Scraping page: 21 -> https://www.karkidi.com/Find-Jobs/21/all/India\n",
      "Scraping page: 22 -> https://www.karkidi.com/Find-Jobs/22/all/India\n",
      "Scraping page: 23 -> https://www.karkidi.com/Find-Jobs/23/all/India\n",
      "Scraping page: 24 -> https://www.karkidi.com/Find-Jobs/24/all/India\n",
      "Scraping page: 25 -> https://www.karkidi.com/Find-Jobs/25/all/India\n",
      "Scraping page: 26 -> https://www.karkidi.com/Find-Jobs/26/all/India\n",
      "Scraping page: 27 -> https://www.karkidi.com/Find-Jobs/27/all/India\n",
      "Scraping page: 28 -> https://www.karkidi.com/Find-Jobs/28/all/India\n",
      "Scraping page: 29 -> https://www.karkidi.com/Find-Jobs/29/all/India\n",
      "Scraping page: 30 -> https://www.karkidi.com/Find-Jobs/30/all/India\n",
      "                                                 Title         Company  \\\n",
      "0     Principal Product Manager - Growth, Poe (Remote)     Quora, Inc.   \n",
      "1            Machine Learning Physical Design Engineer          Google   \n",
      "2    Staff Software Engineer - Monetization, Poe (R...     Quora, Inc.   \n",
      "3    Staff Backend Engineer - Bot Creator Ecosystem...     Quora, Inc.   \n",
      "4    Senior Backend Engineer - Bot Creator Ecosyste...     Quora, Inc.   \n",
      "..                                                 ...             ...   \n",
      "295                         Data Scientist Lead - AIML  JPMorgan Chase   \n",
      "296          Applied AI ML Director - Machine Learning  JPMorgan Chase   \n",
      "297                            Senior Product Designer      Observe.AI   \n",
      "298                         Manager - Machine Learning      Observe.AI   \n",
      "299                                     Data Scientist         Spotify   \n",
      "\n",
      "                        Location  \\\n",
      "0                          India   \n",
      "1    Bengaluru, Karnataka, India   \n",
      "2                          India   \n",
      "3                          India   \n",
      "4                          India   \n",
      "..                           ...   \n",
      "295  Bengaluru, Karnataka, India   \n",
      "296  Hyderabad, Telangana, India   \n",
      "297  Bangalore, Karnataka, India   \n",
      "298  Bangalore, Karnataka, India   \n",
      "299   Mumbai, Maharashtra, India   \n",
      "\n",
      "                                                Skills  \n",
      "0    Aartificial intelligence,Data Analytics,Data s...  \n",
      "1    Aartificial intelligence,Algorithms,Data struc...  \n",
      "2    Aartificial intelligence,Analytical and Proble...  \n",
      "3    Aartificial intelligence,API,Data science tech...  \n",
      "4    Aartificial intelligence,API,Data science tech...  \n",
      "..                                                 ...  \n",
      "295  Aartificial intelligence,Data science techniqu...  \n",
      "296  Aartificial intelligence,AWS,Azure,Google Clou...  \n",
      "297  Design,Leadership Skill,Machine learning techn...  \n",
      "298  Aartificial intelligence,Large Language Models...  \n",
      "299  Amazon RedShift,Apache Hadoop,Data science tec...  \n",
      "\n",
      "[300 rows x 4 columns]\n"
     ]
    }
   ],
   "source": [
    "import requests\n",
    "from bs4 import BeautifulSoup\n",
    "import pandas as pd\n",
    "import time\n",
    "\n",
    "# --- Parameters ---\n",
    "pages = 30  # number of pages to scrape\n",
    "headers = {'User-Agent': 'Mozilla/5.0'}\n",
    "base_url = \"https://www.karkidi.com/Find-Jobs/{}/all/India\"  # no search term filtering\n",
    "jobs_list = []\n",
    "\n",
    "# --- Scraping Loop ---\n",
    "for page in range(1, pages + 1):\n",
    "    url = base_url.format(page)\n",
    "    print(f\"Scraping page: {page} -> {url}\")\n",
    "    response = requests.get(url, headers=headers)\n",
    "    soup = BeautifulSoup(response.content, \"html.parser\")\n",
    "    job_blocks = soup.find_all(\"div\", class_=\"ads-details\")\n",
    "\n",
    "    for job in job_blocks:\n",
    "        try:\n",
    "            title = job.find(\"h4\").get_text(strip=True)\n",
    "            company = job.find(\"a\", href=lambda x: x and \"Employer-Profile\" in x).get_text(strip=True)\n",
    "            location = job.find(\"p\").get_text(strip=True)\n",
    "            key_skills_tag = job.find(\"span\", string=\"Key Skills\")\n",
    "            skills = key_skills_tag.find_next(\"p\").get_text(strip=True) if key_skills_tag else \"\"\n",
    "            jobs_list.append({\n",
    "                \"Title\": title,\n",
    "                \"Company\": company,\n",
    "                \"Location\": location,\n",
    "                \"Skills\": skills\n",
    "            })\n",
    "        except Exception as e:\n",
    "            print(\"Parsing error:\", e)\n",
    "\n",
    "    time.sleep(1)  # Be nice to the server\n",
    "\n",
    "# --- Convert to DataFrame ---\n",
    "df = pd.DataFrame(jobs_list)\n",
    "\n",
    "# --- Show the DataFrame ---\n",
    "print(df)\n"
   ]
  },
  {
   "cell_type": "code",
   "execution_count": 2,
   "id": "3dcc574d",
   "metadata": {},
   "outputs": [
    {
     "name": "stdout",
     "output_type": "stream",
     "text": [
      "k=2 => Silhouette: 0.3020, DBI: 1.7946, CH: 80.3345\n",
      "k=3 => Silhouette: 0.4124, DBI: 1.4536, CH: 93.8399\n",
      "k=4 => Silhouette: 0.5342, DBI: 1.1037, CH: 121.4056\n",
      "k=5 => Silhouette: 0.6496, DBI: 0.8864, CH: 158.7771\n",
      "k=6 => Silhouette: 0.7469, DBI: 0.6832, CH: 216.3286\n",
      "k=7 => Silhouette: 0.8629, DBI: 0.5505, CH: 390.4256\n",
      "k=8 => Silhouette: 0.9591, DBI: 0.1806, CH: 3037.3560\n",
      "k=9 => Silhouette: 1.0000, DBI: 0.0000, CH: 98525285214903932266855123648512.0000\n",
      "k=10 => Silhouette: 1.0000, DBI: 0.0000, CH: 98525285214903932266855123648512.0000\n",
      "k=11 => Silhouette: 1.0000, DBI: 0.0000, CH: 98525285214903932266855123648512.0000\n",
      "k=12 => Silhouette: 1.0000, DBI: 0.0000, CH: 98525285214903932266855123648512.0000\n",
      "k=13 => Silhouette: 1.0000, DBI: 0.0000, CH: 98525285214903932266855123648512.0000\n",
      "k=14 => Silhouette: 1.0000, DBI: 0.0000, CH: 98525285214903932266855123648512.0000\n",
      "k=15 => Silhouette: 1.0000, DBI: 0.0000, CH: 98525285214903932266855123648512.0000\n",
      "k=16 => Silhouette: 1.0000, DBI: 0.0000, CH: 98525285214903932266855123648512.0000\n",
      "k=17 => Silhouette: 1.0000, DBI: 0.0000, CH: 98525285214903932266855123648512.0000\n",
      "k=18 => Silhouette: 1.0000, DBI: 0.0000, CH: 98525285214903932266855123648512.0000\n",
      "k=19 => Silhouette: 1.0000, DBI: 0.0000, CH: 98525285214903932266855123648512.0000\n",
      "\n",
      "Best number of clusters according to each metric:\n",
      "Silhouette Score: k = 9 (score = 1.0000)\n",
      "Davies-Bouldin Index: k = 9 (score = 0.0000)\n",
      "Calinski-Harabasz Index: k = 9 (score = 98525285214903932266855123648512.0000)\n"
     ]
    }
   ],
   "source": [
    "from sklearn.feature_extraction.text import TfidfVectorizer\n",
    "from sklearn.metrics import silhouette_score\n",
    "from scipy.cluster.hierarchy import linkage, fcluster\n",
    "import pandas as pd\n",
    "\n",
    "# --- Step 1: TF-IDF Vectorization of Skills ---\n",
    "vectorizer = TfidfVectorizer(stop_words='english')\n",
    "X = vectorizer.fit_transform(df['Skills'])\n",
    "\n",
    "# --- Step 2: Hierarchical Clustering using Ward linkage ---\n",
    "Z = linkage(X.toarray(), method='ward')  # You can also try 'average' or 'complete'\n",
    "\n",
    "# --- Step 3: Find the optimal number of clusters using silhouette score ---\n",
    "best_score = -1\n",
    "best_k = None\n",
    "best_labels = None\n",
    "\n",
    "from sklearn.metrics import davies_bouldin_score, calinski_harabasz_score\n",
    "\n",
    "best_sil_score = -1\n",
    "best_dbi_score = float('inf')  # lower is better\n",
    "best_ch_score = -1\n",
    "\n",
    "best_k_sil = None\n",
    "best_k_dbi = None\n",
    "best_k_ch = None\n",
    "\n",
    "for k in range(2, 20):\n",
    "    labels = fcluster(Z, k, criterion='maxclust')\n",
    "    \n",
    "    sil_score = silhouette_score(X, labels)\n",
    "    dbi_score = davies_bouldin_score(X.toarray(), labels)\n",
    "    ch_score = calinski_harabasz_score(X.toarray(), labels)\n",
    "    \n",
    "    print(f\"k={k} => Silhouette: {sil_score:.4f}, DBI: {dbi_score:.4f}, CH: {ch_score:.4f}\")\n",
    "    \n",
    "    if sil_score > best_sil_score:\n",
    "        best_sil_score = sil_score\n",
    "        best_k_sil = k\n",
    "    \n",
    "    if dbi_score < best_dbi_score:\n",
    "        best_dbi_score = dbi_score\n",
    "        best_k_dbi = k\n",
    "    \n",
    "    if ch_score > best_ch_score:\n",
    "        best_ch_score = ch_score\n",
    "        best_k_ch = k\n",
    "\n",
    "print(\"\\nBest number of clusters according to each metric:\")\n",
    "print(f\"Silhouette Score: k = {best_k_sil} (score = {best_sil_score:.4f})\")\n",
    "print(f\"Davies-Bouldin Index: k = {best_k_dbi} (score = {best_dbi_score:.4f})\")\n",
    "print(f\"Calinski-Harabasz Index: k = {best_k_ch} (score = {best_ch_score:.4f})\")"
   ]
  },
  {
   "cell_type": "code",
   "execution_count": 3,
   "id": "391c5c85",
   "metadata": {},
   "outputs": [],
   "source": [
    "df['Cluster'] = fcluster(Z, 4, criterion='maxclust')"
   ]
  },
  {
   "cell_type": "code",
   "execution_count": 4,
   "id": "662920d7",
   "metadata": {},
   "outputs": [
    {
     "name": "stdout",
     "output_type": "stream",
     "text": [
      "Cluster\n",
      "1    120\n",
      "4     60\n",
      "2     60\n",
      "3     60\n",
      "Name: count, dtype: int64\n"
     ]
    },
    {
     "data": {
      "text/plain": [
       "array(['Principal Product Manager - Growth, Poe (Remote)',\n",
       "       'Machine Learning Physical Design Engineer',\n",
       "       'Staff Software Engineer - Monetization, Poe (Remote)',\n",
       "       'Staff Backend Engineer - Bot Creator Ecosystem, Poe (Remote)',\n",
       "       'Senior Backend Engineer - Bot Creator Ecosystem, Poe (Remote)',\n",
       "       'Data Scientist Lead - AIML',\n",
       "       'Applied AI ML Director - Machine Learning',\n",
       "       'Senior Product Designer', 'Manager - Machine Learning',\n",
       "       'Data Scientist'], dtype=object)"
      ]
     },
     "execution_count": 4,
     "metadata": {},
     "output_type": "execute_result"
    }
   ],
   "source": [
    "print(df['Cluster'].value_counts())\n",
    "df[\"Title\"].unique()"
   ]
  },
  {
   "cell_type": "code",
   "execution_count": 5,
   "id": "25bbe386",
   "metadata": {},
   "outputs": [
    {
     "data": {
      "image/png": "[encoded data removed]",
      "text/plain": [
       "<Figure size 1400x700 with 1 Axes>"
      ]
     },
     "metadata": {},
     "output_type": "display_data"
    }
   ],
   "source": [
    "import matplotlib.pyplot as plt\n",
    "from scipy.cluster.hierarchy import dendrogram\n",
    "\n",
    "plt.figure(figsize=(14, 7))\n",
    "dendrogram(\n",
    "    Z,\n",
    "    truncate_mode='level',  # show only last p merged clusters for readability\n",
    "    p=4,                   # number of levels to show; adjust as needed\n",
    "    leaf_rotation=90.,      # rotate labels for better readability\n",
    "    leaf_font_size=10.,\n",
    "    show_contracted=True    # show large clusters as triangles\n",
    ")\n",
    "\n",
    "plt.title('Hierarchical Clustering Dendrogram (truncated)')\n",
    "plt.xlabel('Sample Index or Cluster Size')\n",
    "plt.ylabel('Distance')\n",
    "plt.show()"
   ]
  },
  {
   "cell_type": "code",
   "execution_count": 6,
   "id": "485b10f2",
   "metadata": {},
   "outputs": [
    {
     "name": "stdout",
     "output_type": "stream",
     "text": [
      "Cluster 1 top keywords:\n",
      "communication, skills, effective, teamwork, api, data, python, programming, science, design\n",
      "----------------------------------------\n",
      "Cluster 2 top keywords:\n",
      "language, processing, natural, nlp, learning, machine, techniques, large, llms, models\n",
      "----------------------------------------\n",
      "Cluster 3 top keywords:\n",
      "google, cloud, platform, gcp, azure, k8s, kubernetes, aws, bigquery, redshift\n",
      "----------------------------------------\n",
      "Cluster 4 top keywords:\n",
      "leadership, skill, learning, design, machine, structuring, algorithms, techniques, data, intelligence\n",
      "----------------------------------------\n"
     ]
    }
   ],
   "source": [
    "import numpy as np\n",
    "import pandas as pd\n",
    "\n",
    "# Number of top keywords per cluster\n",
    "top_n = 10\n",
    "\n",
    "# TF-IDF matrix and feature names\n",
    "tfidf_matrix = X.toarray()  # your TF-IDF features from before\n",
    "feature_names = vectorizer.get_feature_names_out()\n",
    "\n",
    "# DataFrame with TF-IDF and cluster labels\n",
    "tfidf_df = pd.DataFrame(tfidf_matrix)\n",
    "tfidf_df['Cluster'] = df['Cluster'].values\n",
    "\n",
    "# Function to get top keywords per cluster\n",
    "def get_top_keywords(cluster_id):\n",
    "    cluster_tfidf = tfidf_df[tfidf_df['Cluster'] == cluster_id].drop('Cluster', axis=1)\n",
    "    mean_tfidf = cluster_tfidf.mean(axis=0)\n",
    "    top_indices = mean_tfidf.values.argsort()[::-1][:top_n]\n",
    "    return feature_names[top_indices]\n",
    "\n",
    "\n",
    "# Summarize for each cluster\n",
    "for cluster_id in sorted(df['Cluster'].unique()):\n",
    "    keywords = get_top_keywords(cluster_id)\n",
    "    print(f\"Cluster {cluster_id} top keywords:\")\n",
    "    print(\", \".join(keywords))\n",
    "    print(\"-\" * 40)"
   ]
  },
  {
   "cell_type": "code",
   "execution_count": 7,
   "id": "93cf173e",
   "metadata": {},
   "outputs": [
    {
     "name": "stdout",
     "output_type": "stream",
     "text": [
      "Cluster 1 - Unique Job Roles (4):\n",
      "  Principal Product Manager - Growth, Poe (Remote)\n",
      "  Staff Software Engineer - Monetization, Poe (Remote)\n",
      "  Staff Backend Engineer - Bot Creator Ecosystem, Poe (Remote)\n",
      "  Senior Backend Engineer - Bot Creator Ecosystem, Poe (Remote)\n",
      "--------------------------------------------------\n",
      "Cluster 2 - Unique Job Roles (2):\n",
      "  Data Scientist Lead - AIML\n",
      "  Manager - Machine Learning\n",
      "--------------------------------------------------\n",
      "Cluster 3 - Unique Job Roles (2):\n",
      "  Applied AI ML Director - Machine Learning\n",
      "  Data Scientist\n",
      "--------------------------------------------------\n",
      "Cluster 4 - Unique Job Roles (2):\n",
      "  Machine Learning Physical Design Engineer\n",
      "  Senior Product Designer\n",
      "--------------------------------------------------\n"
     ]
    }
   ],
   "source": [
    "for cluster_id in sorted(df['Cluster'].unique()):\n",
    "    unique_titles = df[df['Cluster'] == cluster_id]['Title'].unique()\n",
    "    print(f\"Cluster {cluster_id} - Unique Job Roles ({len(unique_titles)}):\")\n",
    "    for title in unique_titles:\n",
    "        print(f\"  {title}\")\n",
    "    print(\"-\" * 50)"
   ]
  },
  {
   "cell_type": "code",
   "execution_count": 8,
   "id": "d48f999e",
   "metadata": {},
   "outputs": [
    {
     "data": {
      "text/plain": [
       "['linkage_matrix.pkl']"
      ]
     },
     "execution_count": 8,
     "metadata": {},
     "output_type": "execute_result"
    }
   ],
   "source": [
    "import joblib\n",
    "\n",
    "# Save vectorizer and linkage matrix\n",
    "joblib.dump(vectorizer, 'vectorizer.pkl')\n",
    "joblib.dump(Z, 'linkage_matrix.pkl')"
   ]
  },
  {
   "cell_type": "code",
   "execution_count": null,
   "id": "9131ce17",
   "metadata": {},
   "outputs": [],
   "source": []
  }
 ],
 "metadata": {
  "kernelspec": {
   "display_name": "P",
   "language": "python",
   "name": "python3"
  },
  "language_info": {
   "codemirror_mode": {
    "name": "ipython",
    "version": 3
   },
   "file_extension": ".py",
   "mimetype": "text/x-python",
   "name": "python",
   "nbconvert_exporter": "python",
   "pygments_lexer": "ipython3",
   "version": "3.11.4"
  }
 },
 "nbformat": 4,
 "nbformat_minor": 5
}
